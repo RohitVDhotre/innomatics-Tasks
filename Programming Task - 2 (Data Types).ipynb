{
 "cells": [
  {
   "cell_type": "markdown",
   "id": "39eb7951",
   "metadata": {},
   "source": [
    "## List Comprehensions"
   ]
  },
  {
   "cell_type": "code",
   "execution_count": 1,
   "id": "07bf466d",
   "metadata": {},
   "outputs": [
    {
     "name": "stdout",
     "output_type": "stream",
     "text": [
      "1\n",
      "1\n",
      "1\n",
      "2\n",
      "[[0, 0, 0], [0, 0, 1], [0, 1, 0], [1, 0, 0], [1, 1, 1]]\n"
     ]
    }
   ],
   "source": [
    "if __name__ == '__main__':\n",
    "    x = int(input())\n",
    "    y = int(input())\n",
    "    z = int(input())\n",
    "    n = int(input())\n",
    "    \n",
    "    l = list()\n",
    "    for i in range((x+1)):\n",
    "        for j in range((y+1)):\n",
    "            for k in range((z+1)):\n",
    "                if (i+j+k != n):\n",
    "                    l.append([i,j,k])\n",
    "    print(l)"
   ]
  },
  {
   "cell_type": "markdown",
   "id": "4108f642",
   "metadata": {},
   "source": [
    "## Find the Runner-Up Score!"
   ]
  },
  {
   "cell_type": "code",
   "execution_count": 4,
   "id": "1d5ed4c8",
   "metadata": {},
   "outputs": [
    {
     "name": "stdout",
     "output_type": "stream",
     "text": [
      "5\n",
      "4\n",
      "4\n"
     ]
    }
   ],
   "source": [
    "if __name__ == '__main__':\n",
    "    n = int(input())\n",
    "    arr = list(map(int, input().split()))\n",
    "    \n",
    "    arr.sort()\n",
    "    print(arr[(arr.index(max(arr)))-1])\n"
   ]
  },
  {
   "cell_type": "markdown",
   "id": "0d0ff41b",
   "metadata": {},
   "source": [
    "## Nested Lists"
   ]
  },
  {
   "cell_type": "code",
   "execution_count": null,
   "id": "29d0cfa0",
   "metadata": {},
   "outputs": [],
   "source": [
    "score_lst = []\n",
    "marksheet = []\n",
    "\n",
    "if __name__ == '__main__':\n",
    "    for _ in range(int(input())):\n",
    "        name = input()\n",
    "        score = float(input())\n",
    "        score_lst.append(score)\n",
    "        marksheet.append([name,score])\n",
    "        \n",
    "    second_low = sorted(list(set(score_lst)))[1]\n",
    "    names = [name for name,scores in sorted(marksheet) if scores == second_low]\n",
    "    print('\\n'.join(names))"
   ]
  },
  {
   "cell_type": "markdown",
   "id": "d3e7c65e",
   "metadata": {},
   "source": [
    "## Finding the percentage"
   ]
  },
  {
   "cell_type": "code",
   "execution_count": null,
   "id": "6ed916fe",
   "metadata": {},
   "outputs": [],
   "source": [
    "if __name__ == '__main__':\n",
    "    n = int(input())\n",
    "    student_marks = {}\n",
    "    for _ in range(n):\n",
    "        name, *line = input().split()\n",
    "        scores = list(map(float, line))\n",
    "        student_marks[name] = scores\n",
    "    query_name = input()\n",
    "    sum = 0\n",
    "    for i in student_marks[query_name]:\n",
    "        sum += i\n",
    "    print(\"{0:.2f}\".format(sum/3))"
   ]
  },
  {
   "cell_type": "code",
   "execution_count": null,
   "id": "7d75ffa4",
   "metadata": {},
   "outputs": [],
   "source": []
  },
  {
   "cell_type": "code",
   "execution_count": null,
   "id": "8c40f45a",
   "metadata": {},
   "outputs": [],
   "source": [
    "if __name__ == '__main__':\n",
    "    N = int(input())\n",
    "\n",
    "    arr=[];\n",
    "    for i in range(N):\n",
    "        s = input().split()\n",
    "        for i in range(1,len(s)):\n",
    "            s[i] = int(s[i])\n",
    "            \n",
    "        if s[0] == \"append\":\n",
    "            arr.append(s[1])\n",
    "            \n",
    "        elif s[0] == \"insert\":\n",
    "            arr.insert(s[1],s[2])\n",
    "            \n",
    "        elif s[0] == \"remove\":\n",
    "            arr.remove(s[1])\n",
    "    \n",
    "        elif s[0] == \"pop\":\n",
    "            arr.pop()\n",
    "            \n",
    "        elif s[0] == \"sort\":\n",
    "            arr.sort()\n",
    "        \n",
    "        elif s[0] == \"reverse\":\n",
    "            arr.reverse()\n",
    "    \n",
    "        elif s[0] == \"print\":\n",
    "            print(arr)"
   ]
  },
  {
   "cell_type": "markdown",
   "id": "27e0b33c",
   "metadata": {},
   "source": [
    "## Tuples"
   ]
  },
  {
   "cell_type": "code",
   "execution_count": null,
   "id": "cdc3f382",
   "metadata": {},
   "outputs": [],
   "source": [
    "if __name__ == '__main__':\n",
    "    n = int(input())\n",
    "    integer_list = map(int, input().split())\n",
    "    t1 = tuple(integer_list)\n",
    "    \n",
    "    print(hash(t1))"
   ]
  },
  {
   "cell_type": "markdown",
   "id": "31679a3e",
   "metadata": {},
   "source": [
    "## Introduction to Sets"
   ]
  },
  {
   "cell_type": "code",
   "execution_count": null,
   "id": "bb53ef1b",
   "metadata": {},
   "outputs": [],
   "source": [
    "def average(array):\n",
    "    dist = set(array)\n",
    "    \n",
    "    return sum(dist)/len(dist)\n",
    "    # your code goes here\n",
    "\n",
    "if __name__ == '__main__':"
   ]
  },
  {
   "cell_type": "markdown",
   "id": "5960a077",
   "metadata": {},
   "source": [
    "## Symmetric Difference"
   ]
  },
  {
   "cell_type": "code",
   "execution_count": null,
   "id": "bdf21707",
   "metadata": {},
   "outputs": [],
   "source": [
    "# Enter your code here. Read input from STDIN. Print output to STDOUT\n",
    "M = int(input())\n",
    "mset = set(map(int, input().split()))\n",
    "N = int(input())\n",
    "nset = set(map(int, input().split()))\n",
    "\n",
    "mdef = mset.difference(nset)\n",
    "ndef = nset.difference(mset)\n",
    "\n",
    "output = mdef.union(ndef)\n",
    "\n",
    "for i in sorted(list(output)):\n",
    "    print(i)"
   ]
  },
  {
   "cell_type": "markdown",
   "id": "0b3647e2",
   "metadata": {},
   "source": [
    "## Set .add()"
   ]
  },
  {
   "cell_type": "code",
   "execution_count": null,
   "id": "0a590c49",
   "metadata": {},
   "outputs": [],
   "source": [
    "# Enter your code here. Read input from STDIN. Print output to STDOUT\n",
    "n = int(input())\n",
    "set1 = set()\n",
    "for i in range (n):\n",
    "    set1.add(input())\n",
    "    \n",
    "print(len(set1))"
   ]
  },
  {
   "cell_type": "markdown",
   "id": "7763e87d",
   "metadata": {},
   "source": [
    "## Set .discard(), .remove() & .pop()"
   ]
  },
  {
   "cell_type": "code",
   "execution_count": null,
   "id": "20f8a31e",
   "metadata": {},
   "outputs": [],
   "source": [
    "n = int(input())\n",
    "s = set(map(int, input().split()))\n",
    "N = int(input())\n",
    "for i in range(N):\n",
    "    s1 = list(input().split())\n",
    "    if s1[0]==\"pop\":\n",
    "        s.pop()\n",
    "        \n",
    "    elif s1[0]==\"remove\":\n",
    "        s.remove(int(s1[1]))\n",
    "        \n",
    "    elif s1[0]==\"discard\":\n",
    "        s.discard(int(s1[1]))\n",
    "        \n",
    "sum = 0\n",
    "for i in s:\n",
    "    sum=sum+i\n",
    "print(sum)"
   ]
  },
  {
   "cell_type": "markdown",
   "id": "8eee6810",
   "metadata": {},
   "source": [
    "## Set .union() Operation"
   ]
  },
  {
   "cell_type": "code",
   "execution_count": null,
   "id": "31151dba",
   "metadata": {},
   "outputs": [],
   "source": [
    "# Enter your code here. Read input from STDIN. Print output to STDOUT\n",
    "\n",
    "\n",
    "n1=int(input())\n",
    "set1=set(map(int,input().split()))\n",
    "n2=int(input())\n",
    "set2=set(map(int,input().split()))\n",
    "print(len(set1.union(set2)))"
   ]
  },
  {
   "cell_type": "markdown",
   "id": "12753491",
   "metadata": {},
   "source": [
    "## Set .intersection() Operation"
   ]
  },
  {
   "cell_type": "code",
   "execution_count": null,
   "id": "a38afff3",
   "metadata": {},
   "outputs": [],
   "source": [
    "# Enter your code here. Read input from STDIN. Print output to STDOUT\n",
    "\n",
    "n1=int(input())\n",
    "set1=set(map(int,input().split()))\n",
    "n2=int(input())\n",
    "set2=set(map(int,input().split()))\n",
    "print(len(set1.intersection(set2)))"
   ]
  },
  {
   "cell_type": "markdown",
   "id": "474280b5",
   "metadata": {},
   "source": [
    "## Set .difference() Operation"
   ]
  },
  {
   "cell_type": "code",
   "execution_count": null,
   "id": "07e700e1",
   "metadata": {},
   "outputs": [],
   "source": [
    "# Enter your code here. Read input from STDIN. Print output to STDOUT\n",
    "\n",
    "n1=int(input())\n",
    "set1=set(map(int,input().split()))\n",
    "n2=int(input())\n",
    "set2=set(map(int,input().split()))\n",
    "print(len(set1.difference(set2)))"
   ]
  },
  {
   "cell_type": "markdown",
   "id": "069582a4",
   "metadata": {},
   "source": [
    "## Set .symmetric_difference() Operation"
   ]
  },
  {
   "cell_type": "code",
   "execution_count": null,
   "id": "43b52151",
   "metadata": {},
   "outputs": [],
   "source": [
    "# Enter your code here. Read input from STDIN. Print output to STDOUT\n",
    "\n",
    "n1=int(input())\n",
    "set1=set(map(int,input().split()))\n",
    "n2=int(input())\n",
    "set2=set(map(int,input().split()))\n",
    "print(len(set1.symmetric_difference(set2)))"
   ]
  },
  {
   "cell_type": "markdown",
   "id": "12c19728",
   "metadata": {},
   "source": [
    "## Set Mutations"
   ]
  },
  {
   "cell_type": "code",
   "execution_count": null,
   "id": "f2e108f4",
   "metadata": {},
   "outputs": [],
   "source": [
    "# Enter your code here. Read input from STDIN. Print output to STDOUT\n",
    "\n",
    "a, set_a = int(input()) ,set(map(int, input().split()))\n",
    "N = int(input())\n",
    "\n",
    "for i in range(N):\n",
    "    op = input().split()\n",
    "    set_b = set(map(int, input().split()))\n",
    "    \n",
    "    if(op[0]==\"intersection_update\"):\n",
    "        set_a.intersection_update(set_b)\n",
    "        \n",
    "    elif (op[0]==\"symmetric_difference_update\"):\n",
    "        set_a.symmetric_difference_update(set_b)\n",
    "        \n",
    "    elif (op[0]==\"difference_update\"):\n",
    "        set_a.difference_update(set_b)\n",
    "        \n",
    "    elif (op[0]==\"update\"):\n",
    "        set_a.update(set_b)\n",
    "        \n",
    "print(sum(set_a))"
   ]
  },
  {
   "cell_type": "markdown",
   "id": "22b98915",
   "metadata": {},
   "source": [
    "## Check Subset"
   ]
  },
  {
   "cell_type": "code",
   "execution_count": null,
   "id": "7d7f03a6",
   "metadata": {},
   "outputs": [],
   "source": [
    "# Enter your code here. Read input from STDIN. Print output to STDOUT\n",
    "\n",
    "T = int(input())\n",
    "for i in range(T):\n",
    "    a = input()\n",
    "    A = set(input().split())\n",
    "    b = input()\n",
    "    B = set(input().split())\n",
    "    print(A.issubset(B))"
   ]
  },
  {
   "cell_type": "markdown",
   "id": "0391b8ca",
   "metadata": {},
   "source": [
    "## Check Strict Superset"
   ]
  },
  {
   "cell_type": "code",
   "execution_count": null,
   "id": "df44a8f0",
   "metadata": {},
   "outputs": [],
   "source": [
    "# Enter your code here. Read input from STDIN. Print output to STDOUT\n",
    "\n",
    "A = set(input().split())\n",
    "n = int(input())\n",
    "total = set()\n",
    "for i in range(n):\n",
    "    total = total.union(set(input().split()))\n",
    "print(len(total) == len(A.intersection(total)))"
   ]
  },
  {
   "cell_type": "markdown",
   "id": "cb67d9a2",
   "metadata": {},
   "source": [
    "## The Captain's Room"
   ]
  },
  {
   "cell_type": "code",
   "execution_count": null,
   "id": "5bff0b8e",
   "metadata": {},
   "outputs": [],
   "source": [
    "# Enter your code here. Read input from STDIN. Print output to STDOUT\n",
    "\n",
    "k = int(input())\n",
    "lst = list(map(int, input().split()))\n",
    "\n",
    "s1 = set()\n",
    "s2 = set()\n",
    "\n",
    "for i in lst:\n",
    "    if i in s1:\n",
    "        s2.add(i)\n",
    "    \n",
    "    else:\n",
    "        s1.add(i)\n",
    "    \n",
    "s = s1.difference(s2)\n",
    "\n",
    "print(*s)"
   ]
  },
  {
   "cell_type": "markdown",
   "id": "e700de89",
   "metadata": {},
   "source": [
    "## No Idea!"
   ]
  },
  {
   "cell_type": "code",
   "execution_count": null,
   "id": "ce02516e",
   "metadata": {},
   "outputs": [],
   "source": [
    "# Enter your code here. Read input from STDIN. Print output to STDOUT\n",
    "\n",
    "\n",
    "n,m = map(int, input().split())\n",
    "array = list(map(int, input().split()))\n",
    "set_a = set(map(int, input().split()))\n",
    "set_b = set(map(int, input().split()))\n",
    "\n",
    "happiness = 0\n",
    "\n",
    "for i in array:\n",
    "    if i in set_a:\n",
    "        happiness +=1\n",
    "        \n",
    "    elif i in set_b:\n",
    "        happiness -=1\n",
    "        \n",
    "    else:\n",
    "        pass\n",
    "    \n",
    "print(happiness)"
   ]
  }
 ],
 "metadata": {
  "kernelspec": {
   "display_name": "Python 3",
   "language": "python",
   "name": "python3"
  },
  "language_info": {
   "codemirror_mode": {
    "name": "ipython",
    "version": 3
   },
   "file_extension": ".py",
   "mimetype": "text/x-python",
   "name": "python",
   "nbconvert_exporter": "python",
   "pygments_lexer": "ipython3",
   "version": "3.8.8"
  }
 },
 "nbformat": 4,
 "nbformat_minor": 5
}
